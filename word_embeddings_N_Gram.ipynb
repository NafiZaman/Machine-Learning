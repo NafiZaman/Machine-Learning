{
 "cells": [
  {
   "cell_type": "code",
   "execution_count": 1,
   "metadata": {},
   "outputs": [
    {
     "data": {
      "text/plain": [
       "<torch._C.Generator at 0x7f57000c9c70>"
      ]
     },
     "execution_count": 1,
     "metadata": {},
     "output_type": "execute_result"
    }
   ],
   "source": [
    "# Author: Robert Guthrie\n",
    "\n",
    "import torch\n",
    "import torch.nn as nn\n",
    "import torch.nn.functional as F\n",
    "import torch.optim as optim\n",
    "\n",
    "torch.manual_seed(1)"
   ]
  },
  {
   "cell_type": "code",
   "execution_count": 2,
   "metadata": {},
   "outputs": [],
   "source": [
    "word_to_ix = {\"hello\": 0, \"world\": 1, \"computer\": 2}\n",
    "# 2 words in vocab, 5 dimensional embeddings\n",
    "embeds = nn.Embedding(3, 5)"
   ]
  },
  {
   "cell_type": "code",
   "execution_count": 3,
   "metadata": {},
   "outputs": [
    {
     "name": "stdout",
     "output_type": "stream",
     "text": [
      "Parameter containing:\n",
      "tensor([[ 0.6614,  0.2669,  0.0617,  0.6213, -0.4519],\n",
      "        [-0.1661, -1.5228,  0.3817, -1.0276, -0.5631],\n",
      "        [-0.8923, -0.0583, -0.1955, -0.9656,  0.4224]], requires_grad=True)\n",
      "torch.Size([3, 5])\n",
      "\n",
      "tensor([2])\n",
      "tensor([[-0.8923, -0.0583, -0.1955, -0.9656,  0.4224]],\n",
      "       grad_fn=<EmbeddingBackward>)\n"
     ]
    }
   ],
   "source": [
    "for params in embeds.parameters():\n",
    "    print(params)\n",
    "    print(params.shape)\n",
    "\n",
    "lookup_tensor = torch.tensor([word_to_ix[\"computer\"]], dtype=torch.long)\n",
    "print()\n",
    "print(lookup_tensor)\n",
    "hello_embed = embeds(lookup_tensor)\n",
    "print(hello_embed)"
   ]
  },
  {
   "cell_type": "code",
   "execution_count": 4,
   "metadata": {},
   "outputs": [],
   "source": [
    "CONTEXT_SIZE = 2\n",
    "EMBEDDING_DIM = 10\n",
    "\n",
    "# We will use Shakespeare Sonnet 2\n",
    "test_sentence = \"\"\"When forty winters shall besiege thy brow,\n",
    "And dig deep trenches in thy beauty's field,\n",
    "Thy youth's proud livery so gazed on now,\n",
    "Will be a totter'd weed of small worth held:\n",
    "Then being asked, where all thy beauty lies,\n",
    "Where all the treasure of thy lusty days;\n",
    "To say, within thine own deep sunken eyes,\n",
    "Were an all-eating shame, and thriftless praise.\n",
    "How much more praise deserv'd thy beauty's use,\n",
    "If thou couldst answer 'This fair child of mine\n",
    "Shall sum my count, and make my old excuse,'\n",
    "Proving his beauty by succession thine!\n",
    "This were to be new made when thou art old,\n",
    "And see thy blood warm when thou feel'st it cold.\"\"\".split()\n",
    "\n",
    "# we should tokenize the input, but we will ignore that for now\n",
    "# build a list of tuples.  Each tuple is ([ word_i-2, word_i-1 ], target word)\n",
    "trigrams = [([test_sentence[i], test_sentence[i + 1]], test_sentence[i + 2])\\\n",
    "            for i in range(len(test_sentence) - 2)]\n",
    "                "
   ]
  },
  {
   "cell_type": "code",
   "execution_count": 5,
   "metadata": {
    "scrolled": true
   },
   "outputs": [
    {
     "name": "stdout",
     "output_type": "stream",
     "text": [
      "[(['When', 'forty'], 'winters'), (['forty', 'winters'], 'shall'), (['winters', 'shall'], 'besiege'), (['shall', 'besiege'], 'thy'), (['besiege', 'thy'], 'brow,'), (['thy', 'brow,'], 'And'), (['brow,', 'And'], 'dig'), (['And', 'dig'], 'deep'), (['dig', 'deep'], 'trenches'), (['deep', 'trenches'], 'in')]\n",
      "113\n"
     ]
    }
   ],
   "source": [
    "print(trigrams[:10])\n",
    "print(len(trigrams))"
   ]
  },
  {
   "cell_type": "code",
   "execution_count": 7,
   "metadata": {},
   "outputs": [
    {
     "name": "stdout",
     "output_type": "stream",
     "text": [
      "{'to': 0, 'own': 1, 'art': 2, \"beauty's\": 3, 'How': 4, 'small': 5, 'Were': 6, 'where': 7, 'all': 8, 'If': 9, 'child': 10, \"'This\": 11, 'days;': 12, 'gazed': 13, 'new': 14, 'by': 15, 'old': 16, 'and': 17, 'of': 18, 'when': 19, 'thine': 20, 'shame,': 21, 'within': 22, 'To': 23, 'couldst': 24, 'lusty': 25, 'Shall': 26, 'worth': 27, 'Where': 28, 'trenches': 29, 'be': 30, 'shall': 31, 'all-eating': 32, 'winters': 33, 'thriftless': 34, 'field,': 35, 'livery': 36, 'now,': 37, 'succession': 38, 'thou': 39, 'see': 40, 'count,': 41, 'so': 42, 'eyes,': 43, 'Then': 44, 'being': 45, 'praise.': 46, 'thine!': 47, 'Proving': 48, 'beauty': 49, 'my': 50, 'thy': 51, 'were': 52, 'brow,': 53, 'cold.': 54, 'When': 55, 'weed': 56, 'on': 57, 'the': 58, 'more': 59, 'answer': 60, 'held:': 61, 'sum': 62, 'This': 63, 'treasure': 64, 'lies,': 65, 'old,': 66, \"deserv'd\": 67, \"totter'd\": 68, 'make': 69, 'an': 70, 'his': 71, 'sunken': 72, 'it': 73, 'deep': 74, 'mine': 75, 'use,': 76, 'blood': 77, 'in': 78, 'Thy': 79, 'fair': 80, 'made': 81, \"excuse,'\": 82, 'asked,': 83, 'say,': 84, 'proud': 85, 'praise': 86, 'Will': 87, 'warm': 88, 'forty': 89, \"feel'st\": 90, 'And': 91, 'dig': 92, 'a': 93, \"youth's\": 94, 'besiege': 95, 'much': 96}\n",
      "voab size:  97\n"
     ]
    }
   ],
   "source": [
    "vocab = set(test_sentence)\n",
    "word_to_ix = {word: i for i, word in enumerate(vocab)}\n",
    "\n",
    "print(word_to_ix)\n",
    "print('voab size: ', len(vocab))"
   ]
  },
  {
   "cell_type": "code",
   "execution_count": 14,
   "metadata": {},
   "outputs": [],
   "source": [
    "class NGramLanguageModeler(nn.Module):\n",
    "    def __init__(self, vocab_size, embedding_dim, context_size):\n",
    "        super(NGramLanguageModeler, self).__init__()\n",
    "        self.embeddings = nn.Embedding(vocab_size, embedding_dim)\n",
    "        self.linear1 = nn.Linear(context_size * embedding_dim, 128)\n",
    "        self.linear2 = nn.Linear(128, vocab_size)\n",
    "        \n",
    "    def forward(self, inputs):\n",
    "#         print(f'inputs: {inputs}')\n",
    "        embeds = self.embeddings(inputs).view((1, -1))\n",
    "        out = F.relu(self.linear1(embeds))\n",
    "        out = self.linear2(out)\n",
    "#         print(f'out shape: {out.shape}')\n",
    "        log_probs = F.log_softmax(out, dim=1)\n",
    "        return log_probs"
   ]
  },
  {
   "cell_type": "code",
   "execution_count": 16,
   "metadata": {},
   "outputs": [],
   "source": [
    "losses = []\n",
    "loss_function = nn.NLLLoss()\n",
    "model = NGramLanguageModeler(len(vocab), EMBEDDING_DIM, CONTEXT_SIZE)\n",
    "optimizer = optim.SGD(model.parameters(), lr=1e-2)"
   ]
  },
  {
   "cell_type": "code",
   "execution_count": 20,
   "metadata": {
    "scrolled": true
   },
   "outputs": [],
   "source": [
    "for epoch in range(10):\n",
    "    total_loss = 0\n",
    "    for context, target in trigrams:\n",
    "        # Step 1. Prepare the inputs to be passed to the model\n",
    "        # (i.e turn the words into integer indices and wrap them\n",
    "        # in tensors)\n",
    "        context_idxs = torch.tensor([word_to_ix[w] for w in context],\n",
    "                                   dtype = torch.long)\n",
    "        \n",
    "        # Step 2. Recall that torch *accumulates* gradients. Before\n",
    "        # passing in a new instance you need to zero out the gradients\n",
    "        # from the old instance\n",
    "        model.zero_grad()\n",
    "        \n",
    "        # Step 3. Run the forward pass, getting log probabilities over\n",
    "        # next words\n",
    "        log_probs = model(context_idxs)\n",
    "        \n",
    "        # Step 4. Compute the loss function. (Again, Torch wants the)\n",
    "        # target word rapped in a tensor\n",
    "#         tens = torch.tensor([word_to_ix[target]], dtype=torch.long)\n",
    "#         print(f'tens:{tens}, shape: {tens.shape}')\n",
    "#         print('Log probs',log_probs.shape)\n",
    "        \n",
    "        loss = loss_function(log_probs, torch.tensor([word_to_ix[target]],\n",
    "                                                    dtype=torch.long))\n",
    "        \n",
    "        # Step 5. Do the backward pass and update the gradient\n",
    "        loss.backward()\n",
    "        optimizer.step()\n",
    "#         print(f'epoch: {epoch}, loss: {loss.item():.4f}')\n",
    "        \n",
    "#         if epoch % 200 == 0:\n",
    "#             print(f'epoch: {epoch}, loss: {loss.item():.4f}')\n",
    "        \n",
    "        # Get the python number from a 1-element Tensor by calling\n",
    "        # tensor.item()\n",
    "        total_loss += loss.item()\n",
    "    losses.append(total_loss)"
   ]
  },
  {
   "cell_type": "code",
   "execution_count": 23,
   "metadata": {
    "scrolled": true
   },
   "outputs": [
    {
     "name": "stdout",
     "output_type": "stream",
     "text": [
      "[524.7347674369812, 500.12683844566345, 476.78927278518677, 453.9670879840851, 431.11694955825806, 407.77357625961304, 383.54322135448456, 358.36046224832535, 332.20822328329086, 305.332987844944]\n"
     ]
    }
   ],
   "source": [
    "# The loss decreased every iteration over the training data!\n",
    "print(losses)"
   ]
  },
  {
   "cell_type": "code",
   "execution_count": 26,
   "metadata": {},
   "outputs": [
    {
     "name": "stdout",
     "output_type": "stream",
     "text": [
      "Raw text: When forty winters shall besiege thy brow, And dig deep trenches in thy beauty's field, Thy youth's proud livery so gazed on now, Will be a totter'd weed of small worth held: Then being asked, where all thy beauty lies, Where all the treasure of thy lusty days; To say, within thine own deep sunken eyes, Were an all-eating shame, and thriftless praise. How much more praise deserv'd thy beauty's use, If thou couldst answer 'This fair child of mine Shall sum my count, and make my old excuse,' Proving his beauty by succession thine! This were to be new made when thou art old, And see thy blood warm when thou feel'st it cold.\n",
      "\n",
      "Context: ['when', 'forty']\n",
      "\n",
      "Prediction: of\n"
     ]
    }
   ],
   "source": [
    "ix_to_word = {ix:word for ix, word in enumerate(vocab)}\n",
    "# print(ix_to_word)\n",
    "context = ['when', 'forty']\n",
    "context_vector = torch.tensor([word_to_ix[w] for w in context], dtype = torch.long)\n",
    "a = model(context_vector)\n",
    "# print(a)\n",
    "#Print result\n",
    "print(f'Raw text: {\" \".join(test_sentence)}\\n')\n",
    "print(f'Context: {context}\\n')\n",
    "print(f'Prediction: {ix_to_word[torch.argmax(a[0]).item()]}')"
   ]
  }
 ],
 "metadata": {
  "kernelspec": {
   "display_name": "nlpenv",
   "language": "python",
   "name": "nlpenv"
  },
  "language_info": {
   "codemirror_mode": {
    "name": "ipython",
    "version": 3
   },
   "file_extension": ".py",
   "mimetype": "text/x-python",
   "name": "python",
   "nbconvert_exporter": "python",
   "pygments_lexer": "ipython3",
   "version": "3.8.5"
  }
 },
 "nbformat": 4,
 "nbformat_minor": 4
}
