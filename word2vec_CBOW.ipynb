{
 "cells": [
  {
   "cell_type": "code",
   "execution_count": 1,
   "metadata": {},
   "outputs": [],
   "source": [
    "import torch\n",
    "import torch.nn as nn\n",
    "import torch.nn.functional as F\n",
    "import torch.optim as optim"
   ]
  },
  {
   "cell_type": "code",
   "execution_count": 2,
   "metadata": {},
   "outputs": [],
   "source": [
    "CONTEXT_SIZE = 2  # 2 words to the left, 2 to the right\n",
    "raw_text = \"\"\"We are about to study the idea of a computational process.\n",
    "Computational processes are abstract beings that inhabit computers.\n",
    "As they evolve, processes manipulate other abstract things called data.\n",
    "The evolution of a process is directed by a pattern of rules\n",
    "called a program. People create programs to direct processes. He is a young boy. In effect,\n",
    "we conjure the spirits of the computer with our spells.\"\"\".split()\n",
    "\n",
    "# By deriving a set from `raw_text`, we deduplicate the array\n",
    "vocab = set(raw_text)\n",
    "vocab_size = len(vocab)"
   ]
  },
  {
   "cell_type": "code",
   "execution_count": 3,
   "metadata": {},
   "outputs": [
    {
     "name": "stdout",
     "output_type": "stream",
     "text": [
      "{'called', 'rules', 'abstract', 'the', 'young', 'evolution', 'about', 'directed', 'computers.', 'processes', 'People', 'manipulate', 'computational', 'process.', 'beings', 'create', 'study', 'of', 'a', 'Computational', 'other', 'to', 'spells.', 'processes.', 'conjure', 'idea', 'is', 'data.', 'by', 'things', 'spirits', 'As', 'are', 'we', 'program.', 'effect,', 'they', 'boy.', 'computer', 'that', 'process', 'The', 'He', 'In', 'our', 'pattern', 'direct', 'programs', 'with', 'evolve,', 'inhabit', 'We'}\n",
      "Vocab size:  52\n"
     ]
    }
   ],
   "source": [
    "print(vocab)\n",
    "print('Vocab size: ', vocab_size)"
   ]
  },
  {
   "cell_type": "code",
   "execution_count": 5,
   "metadata": {
    "scrolled": true
   },
   "outputs": [
    {
     "data": {
      "text/plain": [
       "[(['We', 'are', 'to', 'study'], 'about'),\n",
       " (['are', 'about', 'study', 'the'], 'to'),\n",
       " (['about', 'to', 'the', 'idea'], 'study'),\n",
       " (['to', 'study', 'idea', 'of'], 'the'),\n",
       " (['study', 'the', 'of', 'a'], 'idea'),\n",
       " (['the', 'idea', 'a', 'computational'], 'of'),\n",
       " (['idea', 'of', 'computational', 'process.'], 'a'),\n",
       " (['of', 'a', 'process.', 'Computational'], 'computational'),\n",
       " (['a', 'computational', 'Computational', 'processes'], 'process.'),\n",
       " (['computational', 'process.', 'processes', 'are'], 'Computational'),\n",
       " (['process.', 'Computational', 'are', 'abstract'], 'processes'),\n",
       " (['Computational', 'processes', 'abstract', 'beings'], 'are'),\n",
       " (['processes', 'are', 'beings', 'that'], 'abstract'),\n",
       " (['are', 'abstract', 'that', 'inhabit'], 'beings'),\n",
       " (['abstract', 'beings', 'inhabit', 'computers.'], 'that'),\n",
       " (['beings', 'that', 'computers.', 'As'], 'inhabit'),\n",
       " (['that', 'inhabit', 'As', 'they'], 'computers.'),\n",
       " (['inhabit', 'computers.', 'they', 'evolve,'], 'As'),\n",
       " (['computers.', 'As', 'evolve,', 'processes'], 'they'),\n",
       " (['As', 'they', 'processes', 'manipulate'], 'evolve,'),\n",
       " (['they', 'evolve,', 'manipulate', 'other'], 'processes'),\n",
       " (['evolve,', 'processes', 'other', 'abstract'], 'manipulate'),\n",
       " (['processes', 'manipulate', 'abstract', 'things'], 'other'),\n",
       " (['manipulate', 'other', 'things', 'called'], 'abstract'),\n",
       " (['other', 'abstract', 'called', 'data.'], 'things'),\n",
       " (['abstract', 'things', 'data.', 'The'], 'called'),\n",
       " (['things', 'called', 'The', 'evolution'], 'data.'),\n",
       " (['called', 'data.', 'evolution', 'of'], 'The'),\n",
       " (['data.', 'The', 'of', 'a'], 'evolution'),\n",
       " (['The', 'evolution', 'a', 'process'], 'of'),\n",
       " (['evolution', 'of', 'process', 'is'], 'a'),\n",
       " (['of', 'a', 'is', 'directed'], 'process'),\n",
       " (['a', 'process', 'directed', 'by'], 'is'),\n",
       " (['process', 'is', 'by', 'a'], 'directed'),\n",
       " (['is', 'directed', 'a', 'pattern'], 'by'),\n",
       " (['directed', 'by', 'pattern', 'of'], 'a'),\n",
       " (['by', 'a', 'of', 'rules'], 'pattern'),\n",
       " (['a', 'pattern', 'rules', 'called'], 'of'),\n",
       " (['pattern', 'of', 'called', 'a'], 'rules'),\n",
       " (['of', 'rules', 'a', 'program.'], 'called'),\n",
       " (['rules', 'called', 'program.', 'People'], 'a'),\n",
       " (['called', 'a', 'People', 'create'], 'program.'),\n",
       " (['a', 'program.', 'create', 'programs'], 'People'),\n",
       " (['program.', 'People', 'programs', 'to'], 'create'),\n",
       " (['People', 'create', 'to', 'direct'], 'programs'),\n",
       " (['create', 'programs', 'direct', 'processes.'], 'to'),\n",
       " (['programs', 'to', 'processes.', 'He'], 'direct'),\n",
       " (['to', 'direct', 'He', 'is'], 'processes.'),\n",
       " (['direct', 'processes.', 'is', 'a'], 'He'),\n",
       " (['processes.', 'He', 'a', 'young'], 'is'),\n",
       " (['He', 'is', 'young', 'boy.'], 'a'),\n",
       " (['is', 'a', 'boy.', 'In'], 'young'),\n",
       " (['a', 'young', 'In', 'effect,'], 'boy.'),\n",
       " (['young', 'boy.', 'effect,', 'we'], 'In'),\n",
       " (['boy.', 'In', 'we', 'conjure'], 'effect,'),\n",
       " (['In', 'effect,', 'conjure', 'the'], 'we'),\n",
       " (['effect,', 'we', 'the', 'spirits'], 'conjure'),\n",
       " (['we', 'conjure', 'spirits', 'of'], 'the'),\n",
       " (['conjure', 'the', 'of', 'the'], 'spirits'),\n",
       " (['the', 'spirits', 'the', 'computer'], 'of'),\n",
       " (['spirits', 'of', 'computer', 'with'], 'the'),\n",
       " (['of', 'the', 'with', 'our'], 'computer'),\n",
       " (['the', 'computer', 'our', 'spells.'], 'with')]"
      ]
     },
     "execution_count": 5,
     "metadata": {},
     "output_type": "execute_result"
    }
   ],
   "source": [
    "word_to_ix = {word: i for i, word in enumerate(vocab)}\n",
    "data = []\n",
    "for i in range(2, len(raw_text) - 2):\n",
    "    context = [raw_text[i - 2], raw_text[i - 1],\n",
    "               raw_text[i + 1], raw_text[i + 2]]\n",
    "    target = raw_text[i]\n",
    "    data.append((context, target))\n",
    "data"
   ]
  },
  {
   "cell_type": "code",
   "execution_count": 6,
   "metadata": {},
   "outputs": [],
   "source": [
    "class CBOW(nn.Module):\n",
    "    def __init__(self, vocab_size, embedding_dim, context_size):\n",
    "        super(CBOW, self).__init__()\n",
    "        self.embeddings = nn.Embedding(vocab_size, embedding_dim)\n",
    "        self.linear1 = nn.Linear(context_size*2*embedding_dim,\\\n",
    "                                 context_size*2*vocab_size)\n",
    "        self.linear2 = nn.Linear(context_size*2*vocab_size,\\\n",
    "                                 vocab_size)\n",
    "    \n",
    "    def forward(self, inputs):\n",
    "        embeds = self.embeddings(inputs).view((1, -1))\n",
    "        out = F.relu(self.linear1(embeds))\n",
    "        out = self.linear2(out)\n",
    "        log_probs = F.log_softmax(out, dim=1)\n",
    "        return log_probs"
   ]
  },
  {
   "cell_type": "code",
   "execution_count": 7,
   "metadata": {},
   "outputs": [
    {
     "data": {
      "text/plain": [
       "tensor([51, 32, 21, 16])"
      ]
     },
     "execution_count": 7,
     "metadata": {},
     "output_type": "execute_result"
    }
   ],
   "source": [
    "def make_context_vector(context, word_to_ix):\n",
    "    idxs = [word_to_ix[w] for w in context]\n",
    "    return torch.tensor(idxs, dtype=torch.long)\n",
    "\n",
    "make_context_vector(data[0][0], word_to_ix)  # example"
   ]
  },
  {
   "cell_type": "code",
   "execution_count": 8,
   "metadata": {},
   "outputs": [],
   "source": [
    "EMBEDDING_DIM = 10\n",
    "losses = []\n",
    "loss_function = nn.NLLLoss()\n",
    "model = CBOW(len(vocab), EMBEDDING_DIM, CONTEXT_SIZE)\n",
    "optimizer = optim.SGD(model.parameters(), lr=1e-2)"
   ]
  },
  {
   "cell_type": "code",
   "execution_count": 9,
   "metadata": {},
   "outputs": [],
   "source": [
    "for epoch in range(100):\n",
    "    total_loss = 0\n",
    "    for context, target in data:\n",
    "        context_idx = make_context_vector(context, word_to_ix)\n",
    "        \n",
    "        model.zero_grad()\n",
    "        \n",
    "        log_probs = model(context_idx)\n",
    "        \n",
    "        loss = loss_function(log_probs, torch.tensor([word_to_ix[target]],\n",
    "                                                    dtype=torch.long))\n",
    "        \n",
    "        loss.backward()\n",
    "        optimizer.step()\n",
    "        \n",
    "        total_loss += loss.item()\n",
    "    losses.append(total_loss)"
   ]
  },
  {
   "cell_type": "code",
   "execution_count": 10,
   "metadata": {
    "collapsed": true
   },
   "outputs": [
    {
     "data": {
      "text/plain": [
       "[253.019305229187,\n",
       " 230.9137463569641,\n",
       " 210.22014904022217,\n",
       " 190.29372417926788,\n",
       " 170.7624912261963,\n",
       " 151.5070405602455,\n",
       " 132.65707820653915,\n",
       " 114.49299466609955,\n",
       " 97.33777034282684,\n",
       " 81.55576676130295,\n",
       " 67.5194634348154,\n",
       " 55.37784552574158,\n",
       " 45.191132828593254,\n",
       " 36.85256762802601,\n",
       " 30.160841643810272,\n",
       " 24.88770680874586,\n",
       " 20.762972980737686,\n",
       " 17.547911062836647,\n",
       " 15.026204392313957,\n",
       " 13.03189954534173,\n",
       " 11.436624128371477,\n",
       " 10.142574552446604,\n",
       " 9.078776236623526,\n",
       " 8.194835923612118,\n",
       " 7.451483592391014,\n",
       " 6.819478992372751,\n",
       " 6.277120156213641,\n",
       " 5.807096537202597,\n",
       " 5.397083749994636,\n",
       " 5.03612663783133,\n",
       " 4.717222640290856,\n",
       " 4.432848459109664,\n",
       " 4.178182557225227,\n",
       " 3.9490040857344866,\n",
       " 3.7420591581612825,\n",
       " 3.5540504790842533,\n",
       " 3.3826564829796553,\n",
       " 3.2258762158453465,\n",
       " 3.0820603035390377,\n",
       " 2.949409393593669,\n",
       " 2.827121267095208,\n",
       " 2.7137881303206086,\n",
       " 2.608572226949036,\n",
       " 2.510677876882255,\n",
       " 2.4193382915109396,\n",
       " 2.3340127831324935,\n",
       " 2.25415594689548,\n",
       " 2.179088156670332,\n",
       " 2.108680338598788,\n",
       " 2.0423379437997937,\n",
       " 1.9797919327393174,\n",
       " 1.920674903318286,\n",
       " 1.864772256463766,\n",
       " 1.8118236297741532,\n",
       " 1.761646886356175,\n",
       " 1.713909538462758,\n",
       " 1.6686154706403613,\n",
       " 1.6254313420504332,\n",
       " 1.5843608807772398,\n",
       " 1.5451038368046284,\n",
       " 1.5077112056314945,\n",
       " 1.4719394091516733,\n",
       " 1.4377102199941874,\n",
       " 1.404927907511592,\n",
       " 1.3735868856310844,\n",
       " 1.3434531083330512,\n",
       " 1.3145439615473151,\n",
       " 1.286787560209632,\n",
       " 1.2601043195463717,\n",
       " 1.234448119532317,\n",
       " 1.2097309762611985,\n",
       " 1.1859363336116076,\n",
       " 1.1629917798563838,\n",
       " 1.1408901829272509,\n",
       " 1.1195374359376729,\n",
       " 1.0989295239560306,\n",
       " 1.0790163949131966,\n",
       " 1.0597505089826882,\n",
       " 1.0411598547361791,\n",
       " 1.023119622375816,\n",
       " 1.005713450256735,\n",
       " 0.9888152140192688,\n",
       " 0.9724669391289353,\n",
       " 0.9565953598357737,\n",
       " 0.9412144031375647,\n",
       " 0.9262859337031841,\n",
       " 0.9117936799302697,\n",
       " 0.897734172642231,\n",
       " 0.8840676266700029,\n",
       " 0.8707872680388391,\n",
       " 0.8578798733651638,\n",
       " 0.8453149194829166,\n",
       " 0.833103999029845,\n",
       " 0.8212252468802035,\n",
       " 0.8096352284774184,\n",
       " 0.798370961099863,\n",
       " 0.7873956770636141,\n",
       " 0.7766860905103385,\n",
       " 0.7662562956102192,\n",
       " 0.756083756685257]"
      ]
     },
     "execution_count": 10,
     "metadata": {},
     "output_type": "execute_result"
    }
   ],
   "source": [
    "losses"
   ]
  },
  {
   "cell_type": "code",
   "execution_count": 11,
   "metadata": {},
   "outputs": [
    {
     "name": "stdout",
     "output_type": "stream",
     "text": [
      "Raw text: We are about to study the idea of a computational process. Computational processes are abstract beings that inhabit computers. As they evolve, processes manipulate other abstract things called data. The evolution of a process is directed by a pattern of rules called a program. People create programs to direct processes. He is a young boy. In effect, we conjure the spirits of the computer with our spells.\n",
      "\n",
      "Context: ['a', 'young', 'In', 'effect,']\n",
      "\n",
      "Prediction: boy.\n"
     ]
    }
   ],
   "source": [
    "ix_to_word = {ix:word for ix, word in enumerate(vocab)}\n",
    "# print(ix_to_word)\n",
    "context = ['a', 'young', 'In', 'effect,']\n",
    "context_vector = make_context_vector(context, word_to_ix)\n",
    "a = model(context_vector)\n",
    "# print(a)\n",
    "#Print result\n",
    "print(f'Raw text: {\" \".join(raw_text)}\\n')\n",
    "print(f'Context: {context}\\n')\n",
    "print(f'Prediction: {ix_to_word[torch.argmax(a[0]).item()]}')"
   ]
  }
 ],
 "metadata": {
  "kernelspec": {
   "display_name": "nlpenv",
   "language": "python",
   "name": "nlpenv"
  },
  "language_info": {
   "codemirror_mode": {
    "name": "ipython",
    "version": 3
   },
   "file_extension": ".py",
   "mimetype": "text/x-python",
   "name": "python",
   "nbconvert_exporter": "python",
   "pygments_lexer": "ipython3",
   "version": "3.8.5"
  }
 },
 "nbformat": 4,
 "nbformat_minor": 4
}
